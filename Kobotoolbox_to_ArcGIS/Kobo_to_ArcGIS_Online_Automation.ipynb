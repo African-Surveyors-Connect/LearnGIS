{
 "cells": [
  {
   "cell_type": "code",
   "execution_count": null,
   "id": "fac4d128",
   "metadata": {},
   "outputs": [],
   "source": [
    "# Install the ArcGIS API for Python \n",
    "\n",
    "# Read the API Docs => https://developers.arcgis.com/python/ \n",
    "\n",
    "!pip install arcgis"
   ]
  },
  {
   "cell_type": "code",
   "execution_count": 4,
   "id": "2f69829a",
   "metadata": {},
   "outputs": [],
   "source": [
    "# Import neccessary libraries \n",
    "import requests\n",
    "import pandas as pd\n",
    "\n",
    "from IPython.display import display\n",
    "from arcgis.gis import GIS\n",
    "import os\n",
    "gis = GIS('https://arcgis.com/', '<your-username>', '<your-password>')"
   ]
  },
  {
   "cell_type": "code",
   "execution_count": null,
   "id": "9d2e2891",
   "metadata": {},
   "outputs": [],
   "source": [
    "#=> You might want to install this for the first time. Comment out the code after running the script for the first time\n",
    "\n",
    "!pip install openpyxl"
   ]
  },
  {
   "cell_type": "markdown",
   "id": "8823d23c",
   "metadata": {},
   "source": [
    "Where to find the `kobo_asset_url`? Follow this docs for using [synchronous exports](https://support.kobotoolbox.org/synchronous_exports.html)\n",
    "\n",
    "Try to get the *excel file* in this case for this example. \n",
    "\n",
    "Where to find the `access token`? Check out the [official API docs here](https://support.kobotoolbox.org/api.html)"
   ]
  },
  {
   "cell_type": "code",
   "execution_count": null,
   "id": "9cd57a49",
   "metadata": {},
   "outputs": [],
   "source": [
    "#=> You might want to check to see if you can access your data first before running the script\n",
    " \n",
    "import pandas as pd \n",
    "kobo_data = pd.read_excel(kobo_asset_url)\n",
    "kobo_data.head()"
   ]
  },
  {
   "cell_type": "code",
   "execution_count": 8,
   "id": "682df6ac",
   "metadata": {},
   "outputs": [],
   "source": [
    "# Asset ID \n",
    "kobo_asset_url = # Fill in here\n",
    "\n",
    "# Authentication credentials\n",
    "username = \"<your-username>\"\n",
    "password = \"<your-password>\"\n",
    "\n",
    "\n",
    "# API endpoint and export token\n",
    "kobo_api_url = f\"{kobo_asset_url}\"\n",
    "export_token = \"<your-token-here>\"\n",
    "\n",
    "# Create a session with authentication\n",
    "session = requests.Session()\n",
    "session.auth = (username, password)\n",
    "\n",
    "# Construct the export URL\n",
    "kobo_export_url = f\"{kobo_api_url}/data.xlsx?format=xlsx&token={export_token}\"\n",
    "\n",
    "# Fetch data using the authenticated session\n",
    "response = session.get(kobo_export_url)\n",
    "\n",
    "# Check if the request was successful\n",
    "if response.status_code == 200:\n",
    "    # Load data into a pandas DataFrame\n",
    "    kobo_data = pd.read_excel(response.content)\n",
    "    kobo_data.head()\n",
    "else:\n",
    "    print(\"Error:\", response.status_code)\n"
   ]
  },
  {
   "cell_type": "code",
   "execution_count": 9,
   "id": "3100b75e",
   "metadata": {},
   "outputs": [
    {
     "name": "stdout",
     "output_type": "stream",
     "text": [
      "['Country', 'Admin Level 1', 'Admin Level 2', 'Admin Level 3', 'Admin Level 4', 'Village/Place Name', 'Location (Coordinates)', '_Location (Coordinates)_latitude', '_Location (Coordinates)_longitude', '_Location (Coordinates)_altitude', '_Location (Coordinates)_precision', 'In Which Pillar?', 'Project(s)', 'Type of Participant', 'Participant ID:', 'Full name', 'Gender', 'Date of Birth', 'Age', 'Age: ${Age}', 'Position', 'Organisation', 'National ID Number', 'Mobile Phone Number', '_uuid', '_status']\n"
     ]
    }
   ],
   "source": [
    "# What are the column names created by Kobo? \n",
    "# Get the column names\n",
    "kobo_column_names = kobo_data.columns.tolist()\n",
    "\n",
    "# Display the column names\n",
    "print(kobo_column_names)\n",
    "\n",
    "#=> This helps incase we might need to change some naming "
   ]
  },
  {
   "cell_type": "code",
   "execution_count": 16,
   "id": "f0e5ede2",
   "metadata": {},
   "outputs": [
    {
     "name": "stderr",
     "output_type": "stream",
     "text": [
      "C:\\Users\\Kumbirai.Matingo\\AppData\\Local\\Temp\\ipykernel_21100\\3960691370.py:21: UserWarning: Column names longer than 10 characters will be truncated when saved to ESRI Shapefile.\n",
      "  gdf.to_file(shapefile_path, driver='ESRI Shapefile')\n"
     ]
    },
    {
     "name": "stdout",
     "output_type": "stream",
     "text": [
      "Shapefile zipped successfully.\n"
     ]
    }
   ],
   "source": [
    "import geopandas as gpd\n",
    "import zipfile\n",
    "\n",
    "# => Refer to this section if you have any date field. Replace with your field names\n",
    "\n",
    "# Convert datetime columns to string format\n",
    "# kobo_data['today'] = kobo_data['today'].astype(str)\n",
    "# kobo_data['Date'] = kobo_data['Date'].astype(str)\n",
    "kobo_data['Date of Birth'] = kobo_data['Date of Birth'].astype(str)\n",
    "\n",
    "# Convert the DataFrame to a GeoDataFrame\n",
    "geometry = gpd.points_from_xy(kobo_data['_Location (Coordinates)_longitude'], kobo_data['_Location (Coordinates)_latitude'])\n",
    "gdf = gpd.GeoDataFrame(kobo_data, geometry=geometry)\n",
    "\n",
    "# Set the CRS (Coordinate Reference System) for the GeoDataFrame\n",
    "crs = '+proj=longlat +datum=WGS84 +no_defs'\n",
    "gdf.crs = crs\n",
    "\n",
    "# Path to save the shapefile\n",
    "shapefile_path = 'geo_data/cms_registrations.shp'\n",
    "\n",
    "# Save the GeoDataFrame as a shapefile\n",
    "gdf.to_file(shapefile_path, driver='ESRI Shapefile')\n",
    "\n",
    "# Create a zip file\n",
    "zip_file = 'zipped_data/cms_registrations.zip'\n",
    "with zipfile.ZipFile(zip_file, 'w') as zf:\n",
    "    # Add shapefile files to the zip\n",
    "    for extension in ['.shp', '.shx', '.dbf', '.prj']:\n",
    "        file_path = shapefile_path.replace('.shp', extension)\n",
    "        zf.write(file_path, arcname=file_path.split('/')[-1])\n",
    "\n",
    "print('Shapefile zipped successfully.')\n"
   ]
  },
  {
   "cell_type": "markdown",
   "id": "da211790",
   "metadata": {},
   "source": [
    "## Publishing Shapefile \n",
    "\n",
    "_comment out this section when overwriting existing layer_"
   ]
  },
  {
   "cell_type": "code",
   "execution_count": 17,
   "id": "aefd30af",
   "metadata": {},
   "outputs": [
    {
     "data": {
      "text/html": [
       "<div class=\"item_container\" style=\"height: auto; overflow: hidden; border: 1px solid #cfcfcf; border-radius: 2px; background: #f6fafa; line-height: 1.21429em; padding: 10px;\">\n",
       "                    <div class=\"item_left\" style=\"width: 210px; float: left;\">\n",
       "                       <a href='https://higherlife.maps.arcgis.com/home/item.html?id=02a1a7af2fd74a15bf4a6cac73020f69' target='_blank'>\n",
       "                        <img src='http://static.arcgis.com/images/desktopapp.png' class=\"itemThumbnail\">\n",
       "                       </a>\n",
       "                    </div>\n",
       "\n",
       "                    <div class=\"item_right\"     style=\"float: none; width: auto; overflow: hidden;\">\n",
       "                        <a href='https://higherlife.maps.arcgis.com/home/item.html?id=02a1a7af2fd74a15bf4a6cac73020f69' target='_blank'><b>cms_registrations</b>\n",
       "                        </a>\n",
       "                        <br/><img src='https://higherlife.maps.arcgis.com/home/js/jsapi/esri/css/images/item_type_icons/datafiles16.png' style=\"vertical-align:middle;\">Shapefile by kumbirai.matingo\n",
       "                        <br/>Last Modified: August 10, 2023\n",
       "                        <br/>0 comments, 0 views\n",
       "                    </div>\n",
       "                </div>\n",
       "                "
      ],
      "text/plain": [
       "<Item title:\"cms_registrations\" type:Shapefile owner:kumbirai.matingo>"
      ]
     },
     "execution_count": 17,
     "metadata": {},
     "output_type": "execute_result"
    }
   ],
   "source": [
    "# Publish the Shapefile \n",
    "zipped_shp = gis.content.add({}, zip_file)\n",
    "# Display the Published SHP \n",
    "zipped_shp"
   ]
  },
  {
   "cell_type": "code",
   "execution_count": 21,
   "id": "b3ff89c8",
   "metadata": {},
   "outputs": [
    {
     "data": {
      "text/html": [
       "<div class=\"item_container\" style=\"height: auto; overflow: hidden; border: 1px solid #cfcfcf; border-radius: 2px; background: #f6fafa; line-height: 1.21429em; padding: 10px;\">\n",
       "                    <div class=\"item_left\" style=\"width: 210px; float: left;\">\n",
       "                       <a href='https://higherlife.maps.arcgis.com/home/item.html?id=d0e083ba35494a56a7abb3be1a8caaa1' target='_blank'>\n",
       "                        <img src='http://static.arcgis.com/images/desktopapp.png' class=\"itemThumbnail\">\n",
       "                       </a>\n",
       "                    </div>\n",
       "\n",
       "                    <div class=\"item_right\"     style=\"float: none; width: auto; overflow: hidden;\">\n",
       "                        <a href='https://higherlife.maps.arcgis.com/home/item.html?id=d0e083ba35494a56a7abb3be1a8caaa1' target='_blank'><b>cms_registrations</b>\n",
       "                        </a>\n",
       "                        <br/><img src='https://higherlife.maps.arcgis.com/home/js/jsapi/esri/css/images/item_type_icons/featureshosted16.png' style=\"vertical-align:middle;\">Feature Layer Collection by kumbirai.matingo\n",
       "                        <br/>Last Modified: August 10, 2023\n",
       "                        <br/>0 comments, 0 views\n",
       "                    </div>\n",
       "                </div>\n",
       "                "
      ],
      "text/plain": [
       "<Item title:\"cms_registrations\" type:Feature Layer Collection owner:kumbirai.matingo>"
      ]
     },
     "metadata": {},
     "output_type": "display_data"
    }
   ],
   "source": [
    "# Publish as Feature Service\n",
    "published_shp = zipped_shp.publish()\n",
    "# Display the Published Feature Service \n",
    "display(published_shp)"
   ]
  },
  {
   "cell_type": "code",
   "execution_count": 22,
   "id": "fbb2ea76",
   "metadata": {},
   "outputs": [
    {
     "data": {
      "text/html": [
       "<div class=\"item_container\" style=\"height: auto; overflow: hidden; border: 1px solid #cfcfcf; border-radius: 2px; background: #f6fafa; line-height: 1.21429em; padding: 10px;\">\n",
       "                    <div class=\"item_left\" style=\"width: 210px; float: left;\">\n",
       "                       <a href='https://higherlife.maps.arcgis.com/home/item.html?id=d0e083ba35494a56a7abb3be1a8caaa1' target='_blank'>\n",
       "                        <img src='data:image/png;base64,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' width='200' height='133' class=\"itemThumbnail\">\n",
       "                       </a>\n",
       "                    </div>\n",
       "\n",
       "                    <div class=\"item_right\"     style=\"float: none; width: auto; overflow: hidden;\">\n",
       "                        <a href='https://higherlife.maps.arcgis.com/home/item.html?id=d0e083ba35494a56a7abb3be1a8caaa1' target='_blank'><b>CMS - Registrations</b>\n",
       "                        </a>\n",
       "                        <br/>Feature layer containing Case-Management-System registration data from the kobotoolbox<img src='https://higherlife.maps.arcgis.com/home/js/jsapi/esri/css/images/item_type_icons/featureshosted16.png' style=\"vertical-align:middle;\">Feature Layer Collection by kumbirai.matingo\n",
       "                        <br/>Last Modified: August 10, 2023\n",
       "                        <br/>0 comments, 1 views\n",
       "                    </div>\n",
       "                </div>\n",
       "                "
      ],
      "text/plain": [
       "<Item title:\"CMS - Registrations\" type:Feature Layer Collection owner:kumbirai.matingo>"
      ]
     },
     "metadata": {},
     "output_type": "display_data"
    }
   ],
   "source": [
    "# Update the property information of the feature layer \n",
    "thumbnail_path = \"https://yt3.googleusercontent.com/l_P5gHisFM-cYA0qGXcQZZPFs0pEhbSrx5NLxgaEvfmbnZj46TKFEcgyz--ytrwjcvM13eOua9Y=s900-c-k-c0x00ffffff-no-rj\"\n",
    "item_properties = {\"snippet\":\"\"\"Feature layer containing Case-Management-System registration data from the kobotoolbox\"\"\",\n",
    "                   \"title\":\"CMS - Registrations\",\n",
    "                   \"tags\":\"Higherlife Foundation, KobotoolBox, CaseManagementSystem, Registration\"}\n",
    "\n",
    "published_shp.update(item_properties, thumbnail=thumbnail_path)\n",
    "display(published_shp)"
   ]
  },
  {
   "cell_type": "markdown",
   "id": "99baefd3",
   "metadata": {},
   "source": [
    "**commenting of code ends here when updating/overwriting**"
   ]
  },
  {
   "cell_type": "markdown",
   "id": "a47e1b54",
   "metadata": {},
   "source": [
    "## Updating the Feature Layer with new Data from Kobo \n",
    "\n",
    "This section manages the update of information and contents of the Kobo forms to AGOL for automatic mapping and integration into spatial dashboards. "
   ]
  },
  {
   "cell_type": "code",
   "execution_count": null,
   "id": "e3a0ce31",
   "metadata": {},
   "outputs": [],
   "source": [
    "from arcgis.features import FeatureLayerCollection\n",
    "kobo_FL = FeatureLayerCollection.fromitem(published_shp) # try: zipped_shp instead \n",
    "\n",
    "# Overwrite the FL \n",
    "kobo_FL.manager.overwrite(zip_file)"
   ]
  },
  {
   "cell_type": "markdown",
   "id": "5b8edc66",
   "metadata": {},
   "source": [
    "To look into this resource which could be helpful for updating the data - https://community.kobotoolbox.org/t/kobo-form-to-arcgis-online-feature-service/11716/8"
   ]
  },
  {
   "cell_type": "code",
   "execution_count": null,
   "id": "b5102823",
   "metadata": {},
   "outputs": [],
   "source": []
  }
 ],
 "metadata": {
  "kernelspec": {
   "display_name": "Python 3 (ipykernel)",
   "language": "python",
   "name": "python3"
  },
  "language_info": {
   "codemirror_mode": {
    "name": "ipython",
    "version": 3
   },
   "file_extension": ".py",
   "mimetype": "text/x-python",
   "name": "python",
   "nbconvert_exporter": "python",
   "pygments_lexer": "ipython3",
   "version": "3.10.9"
  }
 },
 "nbformat": 4,
 "nbformat_minor": 5
}
